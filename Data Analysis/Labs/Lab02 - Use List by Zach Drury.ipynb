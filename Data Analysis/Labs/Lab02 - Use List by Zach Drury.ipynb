{
 "cells": [
  {
   "cell_type": "markdown",
   "metadata": {},
   "source": [
    "# CI280 Lab02 – List\n",
    "\n",
    "Upload your answer to GitHub\n",
    "\n",
    "Email the link to: jzhang@eastwest.edu\n",
    "\n",
    "Name: _________________"
   ]
  },
  {
   "cell_type": "code",
   "execution_count": null,
   "metadata": {},
   "outputs": [],
   "source": [
    "## A. Show the output: ( 10 pts)"
   ]
  },
  {
   "cell_type": "code",
   "execution_count": 1,
   "metadata": {},
   "outputs": [
    {
     "name": "stdout",
     "output_type": "stream",
     "text": [
      "[50, 20, 10, 80, 10]\n",
      "10\n",
      "max = 80\n",
      "3\n",
      "min = 10\n",
      "2\n",
      "length = 5\n",
      "Element = 10\n"
     ]
    }
   ],
   "source": [
    "# 1)\n",
    "numbers = [50, 20, 10, 80, 10]\n",
    "print(numbers)\n",
    "print(numbers[2])\n",
    "\n",
    "max_value = max(numbers)\n",
    "max_index = numbers.index(max_value)\n",
    "print('max =' ,max_value)\n",
    "print( max_index)\n",
    "\n",
    "min_value = min(numbers)\n",
    "min_index = numbers.index(min_value)\n",
    "print('min =' ,min_value)\n",
    "print(min_index)\n",
    "\n",
    "print('length =' ,len(numbers))\n",
    "print('Element =' ,numbers[len(numbers)-1])"
   ]
  },
  {
   "cell_type": "code",
   "execution_count": 2,
   "metadata": {},
   "outputs": [
    {
     "name": "stdout",
     "output_type": "stream",
     "text": [
      "\n",
      "['Steven', 'Will', 'Alicia']\n",
      "--\n",
      "Steven\n",
      "Will\n",
      "Alicia\n",
      "--\n",
      "Alicia\n"
     ]
    }
   ],
   "source": [
    "# 2)\n",
    "print() # line break\n",
    "names=['Steven', 'Will', 'Alicia']\n",
    "print(names)\n",
    "\n",
    "print('--')\n",
    "for name in names:\n",
    "      print(name)\n",
    "print('--')\n",
    "index = 2\n",
    "while index <len(names):\n",
    "      print(names[index])\n",
    "      index += 1"
   ]
  },
  {
   "cell_type": "code",
   "execution_count": 3,
   "metadata": {},
   "outputs": [
    {
     "name": "stdout",
     "output_type": "stream",
     "text": [
      "\n",
      "[0, 5, 10, 15]\n",
      "[0, 5, 10, 15, 0, 5, 10, 15, 0, 5, 10, 15]\n",
      "[0, 15, 30, 45]\n",
      "90\n",
      "22.5\n"
     ]
    }
   ],
   "source": [
    "# 3)\n",
    "print() # line break\n",
    "num1 = list(range(0,20, 5))\n",
    "print(num1)\n",
    "\n",
    "num2 = num1 * 3\n",
    "print(num2)\n",
    "\n",
    "index = 0\n",
    "while index < len(num1):\n",
    "    num1[index]= num1[index]*3\n",
    "    index +=1\n",
    "print(num1)\n",
    "\n",
    "print(sum(num1))\n",
    "print(sum(num1)/len(num1))"
   ]
  },
  {
   "cell_type": "code",
   "execution_count": 4,
   "metadata": {},
   "outputs": [
    {
     "name": "stdout",
     "output_type": "stream",
     "text": [
      "\n",
      "[0, 10, 20, 30, 40, 50, 60, 70, 80, 90, 100]\n",
      "[0, 10, 20, 30, 40]\n",
      "[20, 30, 40]\n",
      "[70, 80, 90, 100]\n",
      "[80, 90, 100]\n"
     ]
    }
   ],
   "source": [
    "# 4)\n",
    "print() # line break\n",
    "numbers = list(range(0,101,10))\n",
    "print(numbers)\n",
    "\n",
    "print(numbers[:5])\n",
    "print(numbers[2:5])\n",
    "print(numbers[7:])\n",
    "print(numbers[-3:])"
   ]
  },
  {
   "cell_type": "code",
   "execution_count": 5,
   "metadata": {},
   "outputs": [
    {
     "name": "stdout",
     "output_type": "stream",
     "text": [
      "\n",
      "['Chicago', 'Paris']\n",
      "1\n",
      "['Chicago', 'New York', 'Paris']\n",
      "['Paris', 'New York', 'Chicago']\n",
      "['Chicago', 'New York', 'Paris']\n",
      "['Chicago', 'Paris']\n"
     ]
    }
   ],
   "source": [
    "# 5)\n",
    "print() # line break\n",
    "cities = ['Chicago', 'Paris']\n",
    "print(cities)\n",
    "\n",
    "city_index = cities.index('Paris')\n",
    "print(city_index)\n",
    "\n",
    "cities.insert(1, 'New York')\n",
    "print(cities)\n",
    "\n",
    "cities.reverse()\n",
    "print(cities)\n",
    "\n",
    "cities.sort()\n",
    "print(cities)\n",
    "          \n",
    "cities.remove('New York')\n",
    "print(cities)"
   ]
  },
  {
   "cell_type": "code",
   "execution_count": null,
   "metadata": {},
   "outputs": [],
   "source": [
    "# B. Write a program. ( 10 pts)\n",
    "# The amounts daily sales of one week is stored in a list. \n",
    "# 1) Write a program that asks the user to enter a store’s sales for each day of the week. \n",
    "# 2) Display the sales for each week day. \n",
    "# 3) Display Sales summary: total sales, average sales, highest and lowest sales. (4 pts)"
   ]
  },
  {
   "cell_type": "code",
   "execution_count": 12,
   "metadata": {},
   "outputs": [
    {
     "name": "stdout",
     "output_type": "stream",
     "text": [
      "Enter a store's sales for each day of the week:\n",
      "Enter the sales for Sunday: 100\n",
      "Enter the sales for Monday: 200\n",
      "Enter the sales for Tuesday: 300\n",
      "Enter the sales for Wednesday: 200\n",
      "Enter the sales for Thursday: 250\n",
      "Enter the sales for Friday: 250\n",
      "Enter the sales for Saturday: 300\n",
      "Weekly Sales\n",
      "----------\n",
      "Sunday: $ 100.0\n",
      "Monday: $ 200.0\n",
      "Tuesday: $ 300.0\n",
      "Wednesday: $ 200.0\n",
      "Thursday: $ 250.0\n",
      "Friday: $ 250.0\n",
      "Saturday: $ 300.0\n",
      "\n",
      "Weekly Sales Summary\n",
      "--------\n",
      "Total sales: $ 1600.00\n",
      "Average sales: $ 228.57\n",
      "The highest sales is on Tuesday: $ 300.0\n",
      "The lowest sales in on Sunday: $ 100.0\n"
     ]
    }
   ],
   "source": [
    "# Ask user to enter a stores sales for each day of the week.\n",
    "\n",
    "# variables used\n",
    "total_sales = [0.0]*days\n",
    "days_of_week = 7\n",
    "\n",
    "# Compute\n",
    "daily_sales = [0.0] * days\n",
    "days_of_week = ['Sunday', 'Monday', 'Tuesday',  'Wednesday', 'Thursday', 'Friday','Saturday']\n",
    "\n",
    "for 1 in range(7):\n",
    "    daily_sales[i] = float(input(\"Enter the sales for\" + days_of_week[i] + ': '))\n",
    "\n",
    "print ('Weekly Sales')\n",
    "print('--------')\n",
    "\n",
    "for index in range(7):\n",
    "    print(days_of_week [index], ': $', format(daily_sales[index], ',.2f'))\n",
    "\n",
    "for number in daily_sales\n",
    "total_sales\n",
    "\n",
    "\n",
    "\n",
    "\n",
    "\n",
    "\n",
    "#User input\n",
    "sun = float(input(\"Enter the sales for Sunday: \"))\n",
    "mon = float(input(\"Enter the sales for Monday: \"))\n",
    "tue = float(input(\"Enter the sales for Tuesday: \"))\n",
    "wed = float(input(\"Enter the sales for Wednesday: \"))\n",
    "thur = float(input(\"Enter the sales for Thursday: \"))\n",
    "fri = float(input(\"Enter the sales for Friday: \"))\n",
    "sat = float(input(\"Enter the sales for Saturday: \"))\n",
    "print(\"Weekly Sales\")\n",
    "print(\"----------\")\n",
    "print(\"Sunday: $\", sun)\n",
    "print(\"Monday: $\", mon)\n",
    "print(\"Tuesday: $\", tue)\n",
    "print(\"Wednesday: $\", wed)\n",
    "print(\"Thursday: $\", thur)\n",
    "print(\"Friday: $\", fri)\n",
    "print(\"Saturday: $\", sat)\n",
    "print()\n",
    "print(\"Weekly Sales Summary\")\n",
    "print(\"--------\")\n",
    "print(\"Total sales: $\", format(sun+mon+tue+wed+thur+fri+sat, '.2f'))\n",
    "print(\"Average sales: $\", format((sun+mon+tue+wed+thur+fri+sat)/7, '.2f'))\n",
    "print(\"The highest sales is on Tuesday: $\",daily_sales )\n",
    "print(\"The lowest sales in on Sunday: $\",)\n",
    "\n",
    "\n",
    "\n"
   ]
  },
  {
   "cell_type": "code",
   "execution_count": null,
   "metadata": {},
   "outputs": [],
   "source": []
  }
 ],
 "metadata": {
  "kernelspec": {
   "display_name": "Python 3",
   "language": "python",
   "name": "python3"
  },
  "language_info": {
   "codemirror_mode": {
    "name": "ipython",
    "version": 3
   },
   "file_extension": ".py",
   "mimetype": "text/x-python",
   "name": "python",
   "nbconvert_exporter": "python",
   "pygments_lexer": "ipython3",
   "version": "3.7.6"
  }
 },
 "nbformat": 4,
 "nbformat_minor": 4
}
