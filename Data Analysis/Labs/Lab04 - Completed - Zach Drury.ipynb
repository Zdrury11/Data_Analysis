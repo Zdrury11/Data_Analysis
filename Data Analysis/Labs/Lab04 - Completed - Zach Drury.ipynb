{
 "cells": [
  {
   "cell_type": "markdown",
   "metadata": {},
   "source": [
    "# Start Pandas"
   ]
  },
  {
   "cell_type": "code",
   "execution_count": null,
   "metadata": {},
   "outputs": [],
   "source": [
    "%matplotlib inline\n",
    "import pandas as pd"
   ]
  },
  {
   "cell_type": "code",
   "execution_count": null,
   "metadata": {
    "scrolled": true
   },
   "outputs": [],
   "source": [
    "data = pd.read_csv('data//MarchSales.csv')"
   ]
  },
  {
   "cell_type": "code",
   "execution_count": null,
   "metadata": {},
   "outputs": [],
   "source": [
    "# limiting the display rows\n",
    "pd.set_option('display.max_rows', 10)\n",
    "data"
   ]
  },
  {
   "cell_type": "code",
   "execution_count": null,
   "metadata": {},
   "outputs": [],
   "source": [
    "data.shape"
   ]
  },
  {
   "cell_type": "code",
   "execution_count": null,
   "metadata": {},
   "outputs": [],
   "source": [
    "# 1) show the first five records\n",
    "\n",
    "data.head(4)"
   ]
  },
  {
   "cell_type": "code",
   "execution_count": null,
   "metadata": {},
   "outputs": [],
   "source": [
    "# 2) show the column names\n",
    "\n",
    "\n",
    "data.columns"
   ]
  },
  {
   "cell_type": "code",
   "execution_count": null,
   "metadata": {},
   "outputs": [],
   "source": [
    "# 3) Show statistcs summary for sale amount\n",
    "\n",
    "\n",
    "data.description()"
   ]
  },
  {
   "cell_type": "code",
   "execution_count": null,
   "metadata": {},
   "outputs": [],
   "source": [
    "#4) show all Trans_No column\n",
    "\n",
    "\n",
    "res = data['Trans_No']\n",
    "res"
   ]
  },
  {
   "cell_type": "code",
   "execution_count": null,
   "metadata": {},
   "outputs": [],
   "source": [
    "#5) Show all first name and last name\n",
    "\n",
    "\n",
    "data[['Sales_First', 'Sales_Last']]"
   ]
  },
  {
   "cell_type": "code",
   "execution_count": null,
   "metadata": {},
   "outputs": [],
   "source": [
    "#6) Show all department, without duplicate\n",
    "# Use unique()\n",
    "\n",
    "\n",
    "res = data['Department'].unique()\n"
   ]
  },
  {
   "cell_type": "code",
   "execution_count": null,
   "metadata": {},
   "outputs": [],
   "source": [
    "# Use .loc[]\n",
    "# 7) \n",
    "# Show the first record\n",
    "# Show the first, third and fifith recored \n",
    "\n",
    "res = data.loc[0]\n",
    "print(res)\n",
    "print()\n",
    "\n",
    "res = data.[0,2,4]]\n",
    "prestn(res)\n",
    "print()\n"
   ]
  },
  {
   "cell_type": "code",
   "execution_count": null,
   "metadata": {},
   "outputs": [],
   "source": [
    "# 8) \n",
    "# Use loc\n",
    "# Only show the Tans_no of first recored \n",
    "# Only show the first name , last name of first recored \n",
    "\n",
    "res = data['Trans_No'].loc[0]\n",
    "print(res)\n",
    "print()\n",
    "\n",
    "res = data[['Sales_First','Sales_Last']].loc[0]\n",
    "print(res)\n",
    "print()\n"
   ]
  },
  {
   "cell_type": "code",
   "execution_count": null,
   "metadata": {},
   "outputs": [],
   "source": [
    "data"
   ]
  },
  {
   "cell_type": "code",
   "execution_count": null,
   "metadata": {},
   "outputs": [],
   "source": [
    "# 9) Fix the problem \n",
    "res = data.loc[0,['Trans_No','Sales_Last','Sales_First']]\n",
    "print(res)\n",
    "\n",
    "print('------')\n",
    "res = data[['Trans_No','Sales_Last','Sales_First']]\n",
    "print(res)\n",
    "\n",
    "print('------')\n",
    "res = data[[['Trans_no','Sales_First','Sales_Last']]].iloc[0]\n",
    "print(res)\n",
    "\n",
    "print('------')\n",
    "res = data[['Sales_First','Sales_Last']].iloc[:5]\n",
    "print(res)"
   ]
  },
  {
   "cell_type": "code",
   "execution_count": null,
   "metadata": {},
   "outputs": [],
   "source": [
    "# only show one column\n",
    "\n",
    "names = data['Last_Name']  # this is a series"
   ]
  },
  {
   "cell_type": "code",
   "execution_count": null,
   "metadata": {},
   "outputs": [],
   "source": [
    "data['Last Name'].index"
   ]
  },
  {
   "cell_type": "code",
   "execution_count": null,
   "metadata": {},
   "outputs": [],
   "source": [
    "data['Last Name'].values"
   ]
  },
  {
   "cell_type": "code",
   "execution_count": null,
   "metadata": {},
   "outputs": [],
   "source": [
    "# Show first name, last name and title, , use [[]]!!!\n",
    "# 10)\n",
    "\n",
    "data[[['Sales_First','Sales_Last','Title']]]"
   ]
  },
  {
   "cell_type": "code",
   "execution_count": null,
   "metadata": {},
   "outputs": [],
   "source": [
    "#11)\n",
    "print(data.Trans_No)\n",
    "\n",
    "# Total sales, use count\n",
    "data['Trans_No'].count()\n",
    "\n",
    "# also can use len\n",
    "len(data['Trans_No'])"
   ]
  },
  {
   "cell_type": "markdown",
   "metadata": {},
   "source": [
    "#Use .loc to assign column values"
   ]
  }
 ],
 "metadata": {
  "kernelspec": {
   "display_name": "Python 3",
   "language": "python",
   "name": "python3"
  },
  "language_info": {
   "codemirror_mode": {
    "name": "ipython",
    "version": 3
   },
   "file_extension": ".py",
   "mimetype": "text/x-python",
   "name": "python",
   "nbconvert_exporter": "python",
   "pygments_lexer": "ipython3",
   "version": "3.8.3"
  }
 },
 "nbformat": 4,
 "nbformat_minor": 2
}
